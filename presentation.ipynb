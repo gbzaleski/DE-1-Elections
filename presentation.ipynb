{
 "cells": [
  {
   "cell_type": "code",
   "execution_count": 1,
   "metadata": {},
   "outputs": [],
   "source": [
    "import minio_communication"
   ]
  },
  {
   "cell_type": "code",
   "execution_count": 2,
   "metadata": {},
   "outputs": [],
   "source": [
    "client = minio_communication.get_client()"
   ]
  },
  {
   "cell_type": "markdown",
   "metadata": {},
   "source": [
    "# Apportionment Systems Comparison \n",
    "### Based on the 2019 and 2023 Polish Parliamentary Elections\n",
    "\n",
    "This notebook compares the results of the 2019 and 2023 Polish Parliamentary Elections using different apportionment systems. The results of the elections are based on the official results published by the National Electoral Commission (PKW)."
   ]
  },
  {
   "cell_type": "markdown",
   "metadata": {},
   "source": [
    "## Pipeline Description\n",
    "\n",
    "The pipeline consists of the following steps:\n",
    "1. Data loading -- Given the official results we download the data and store it in Minio.\n",
    "2. Data processing -- We process the data and store it in Minio.\n",
    "3. Results visualization -- By connecting with minio we visualize the results inside this notebook\n",
    "\n",
    "What is worth noting, is that steps 1 and 2 are fully automated and can be easily\n",
    "reused for other elections and extended for other systems.\n",
    "\n",
    "We achieve that by separating the stages of the pipeline into separate programs that just \n",
    "need to ensure that the data is stored in the correct format at the end of each stage\n",
    "and by using the class system that allows us to add new apportionment systems without\n",
    "changing the code of the pipeline."
   ]
  },
  {
   "cell_type": "markdown",
   "metadata": {},
   "source": [
    "## Methods\n",
    "\n",
    "We compare the results of the elections using the two most popular apportionment systems: the [D'Hondt method](https://en.wikipedia.org/wiki/D%27Hondt_method) and the [Sainte-Laguë method](https://en.wikipedia.org/wiki/Webster/Sainte-Lagu%C3%AB_method),\n",
    "their regional and globale variants, together with the default thresholds and without them.\n",
    "\n",
    "Additionally we compare them with two other apportionment systems proposed by Grzegorz:\n",
    "\n",
    "* Square D'Hondt method\n",
    "* Fair Vote Weight D'Hondt method\n"
   ]
  },
  {
   "cell_type": "markdown",
   "metadata": {},
   "source": [
    "## Results\n",
    "\n",
    "Here we present a brief graphical summary of the results that we obtained from the pipeline."
   ]
  },
  {
   "cell_type": "markdown",
   "metadata": {},
   "source": [
    "### Dhondt Method vs. Sainte-Lague Method"
   ]
  },
  {
   "cell_type": "code",
   "execution_count": null,
   "metadata": {},
   "outputs": [],
   "source": []
  },
  {
   "cell_type": "markdown",
   "metadata": {},
   "source": [
    "### How does the global seat allocation affect the results?"
   ]
  },
  {
   "cell_type": "code",
   "execution_count": null,
   "metadata": {},
   "outputs": [],
   "source": []
  },
  {
   "cell_type": "markdown",
   "metadata": {},
   "source": [
    "### How does removing the thresholds affect the results?"
   ]
  },
  {
   "cell_type": "code",
   "execution_count": null,
   "metadata": {},
   "outputs": [],
   "source": []
  },
  {
   "cell_type": "markdown",
   "metadata": {},
   "source": [
    "### Squared Dhondt Method"
   ]
  },
  {
   "cell_type": "code",
   "execution_count": null,
   "metadata": {},
   "outputs": [],
   "source": []
  },
  {
   "cell_type": "markdown",
   "metadata": {},
   "source": [
    "### Fair Vote Weight DHondt Method\n"
   ]
  },
  {
   "cell_type": "code",
   "execution_count": null,
   "metadata": {},
   "outputs": [],
   "source": []
  }
 ],
 "metadata": {
  "kernelspec": {
   "display_name": "venv",
   "language": "python",
   "name": "python3"
  },
  "language_info": {
   "codemirror_mode": {
    "name": "ipython",
    "version": 3
   },
   "file_extension": ".py",
   "mimetype": "text/x-python",
   "name": "python",
   "nbconvert_exporter": "python",
   "pygments_lexer": "ipython3",
   "version": "3.11.6"
  },
  "orig_nbformat": 4
 },
 "nbformat": 4,
 "nbformat_minor": 2
}
